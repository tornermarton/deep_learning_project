{
  "nbformat": 4,
  "nbformat_minor": 0,
  "metadata": {
    "colab": {
      "name": "dl-project-loremimpsum.ipynb",
      "version": "0.3.2",
      "provenance": [],
      "collapsed_sections": [],
      "include_colab_link": true
    },
    "kernelspec": {
      "name": "python3",
      "display_name": "Python 3"
    },
    "accelerator": "GPU"
  },
  "cells": [
    {
      "cell_type": "markdown",
      "metadata": {
        "id": "view-in-github",
        "colab_type": "text"
      },
      "source": [
        "<a href=\"https://colab.research.google.com/github/tornermarton/deep_learning_project/blob/master/dl_project_loremimpsum.ipynb\" target=\"_parent\"><img src=\"https://colab.research.google.com/assets/colab-badge.svg\" alt=\"Open In Colab\"/></a>"
      ]
    },
    {
      "metadata": {
        "id": "X6CGXvShrkRg",
        "colab_type": "text"
      },
      "cell_type": "markdown",
      "source": [
        "# Authorship identification using deep learning\n",
        "**Füleki Fábián,\tJani Balázs Gábor,\tTorner Márton**  \n",
        "*Project work for BME Deep Learning course (VITMAV45),  \n",
        "Team: LoremIpsum*\n",
        "\n",
        "\n",
        "**Milestone I**\n",
        "\n",
        "**Dataset:**  \n",
        "Our primary dataset is the Reuters_50_50 (C50), which is a subset of Reuters Corpus Volume I(RCVI). The RCV1 is archive of categorized newswire stories, made public for research purposes by Reuters, Ltd. The C50 collection consist of 50 texts for each of the 50 top author, for training and separately the same amount for testing purpose (5000 texts in total). This dataset has been previous used by previous studies of authorship recognition and can be found here: https://archive.ics.uci.edu/ml/machine-learning-databases/00217/C50.zip\n",
        "\n"
      ]
    },
    {
      "metadata": {
        "id": "lfL_i-ZRPjR8",
        "colab_type": "text"
      },
      "cell_type": "markdown",
      "source": [
        "## Prepaing Dataset and visualizing the result\n",
        "\n",
        "**Milestone I**"
      ]
    },
    {
      "metadata": {
        "id": "3sKUlzl7FC9G",
        "colab_type": "code",
        "outputId": "3457de32-9cc4-4e7a-cf80-9df6f4fd2b90",
        "colab": {
          "base_uri": "https://localhost:8080/",
          "height": 252
        }
      },
      "cell_type": "code",
      "source": [
        "# Clean storage for new files\n",
        "!rm -r C50*\n",
        "\n",
        "# Download of the Reuter_50_50 (C50) dataset\n",
        "!wget \"https://archive.ics.uci.edu/ml/machine-learning-databases/00217/C50.zip\"\n",
        "!unzip -q C50.zip\n",
        "\n",
        "# Download contains 2 directories split, merge them (we will do custom splitting)\n",
        "!mkdir C50\n",
        "!mv C50train/* C50/\n",
        "!rsync -a C50test/ C50/\n",
        "\n",
        "# Clean files we don't need\n",
        "!rm C50.zip\n",
        "!rm -r C50train\n",
        "!rm -r C50test"
      ],
      "execution_count": 6,
      "outputs": [
        {
          "output_type": "stream",
          "text": [
            "rm: cannot remove 'C50*': No such file or directory\n",
            "--2018-10-31 17:01:53--  https://archive.ics.uci.edu/ml/machine-learning-databases/00217/C50.zip\n",
            "Resolving archive.ics.uci.edu (archive.ics.uci.edu)... 128.195.10.249\n",
            "Connecting to archive.ics.uci.edu (archive.ics.uci.edu)|128.195.10.249|:443... connected.\n",
            "HTTP request sent, awaiting response... 200 OK\n",
            "Length: 8194031 (7.8M) [application/zip]\n",
            "Saving to: ‘C50.zip’\n",
            "\n",
            "C50.zip             100%[===================>]   7.81M  2.15MB/s    in 3.6s    \n",
            "\n",
            "2018-10-31 17:01:57 (2.15 MB/s) - ‘C50.zip’ saved [8194031/8194031]\n",
            "\n"
          ],
          "name": "stdout"
        }
      ]
    },
    {
      "metadata": {
        "id": "SecQn64b5N9m",
        "colab_type": "code",
        "outputId": "b700c94e-a89c-4d4d-dff0-bfca634c44af",
        "colab": {
          "base_uri": "https://localhost:8080/",
          "height": 269
        }
      },
      "cell_type": "code",
      "source": [
        "# Download and install the largest language pack for SpaCy\n",
        "# It contains 1 000 000 word vectors (so only very rare words can't be processed)\n",
        "!python -m spacy download en_core_web_lg"
      ],
      "execution_count": 7,
      "outputs": [
        {
          "output_type": "stream",
          "text": [
            "Collecting en_core_web_lg==2.0.0 from https://github.com/explosion/spacy-models/releases/download/en_core_web_lg-2.0.0/en_core_web_lg-2.0.0.tar.gz#egg=en_core_web_lg==2.0.0\n",
            "\u001b[?25l  Downloading https://github.com/explosion/spacy-models/releases/download/en_core_web_lg-2.0.0/en_core_web_lg-2.0.0.tar.gz (852.3MB)\n",
            "\u001b[K    100% |████████████████████████████████| 852.3MB 46.6MB/s \n",
            "\u001b[?25hInstalling collected packages: en-core-web-lg\n",
            "  Running setup.py install for en-core-web-lg ... \u001b[?25l-\b \b\\\b \b|\b \b/\b \b-\b \b\\\b \b|\b \b/\b \b-\b \b\\\b \bdone\n",
            "\u001b[?25hSuccessfully installed en-core-web-lg-2.0.0\n",
            "\n",
            "\u001b[93m    Linking successful\u001b[0m\n",
            "    /usr/local/lib/python3.6/dist-packages/en_core_web_lg -->\n",
            "    /usr/local/lib/python3.6/dist-packages/spacy/data/en_core_web_lg\n",
            "\n",
            "    You can now load the model via spacy.load('en_core_web_lg')\n",
            "\n"
          ],
          "name": "stdout"
        }
      ]
    },
    {
      "metadata": {
        "id": "2NhHEv3P5QHv",
        "colab_type": "code",
        "colab": {}
      },
      "cell_type": "code",
      "source": [
        "# Get required resources\n",
        "import spacy\n",
        "import math\n",
        "import time\n",
        "import pandas as pd\n",
        "import nltk\n",
        "import os\n",
        "import sys\n",
        "import numpy as np\n",
        "from nltk import tokenize\n",
        "from keras.utils import np_utils\n",
        "\n"
      ],
      "execution_count": 0,
      "outputs": []
    },
    {
      "metadata": {
        "id": "_Alt2PuV9HeL",
        "colab_type": "code",
        "colab": {}
      },
      "cell_type": "code",
      "source": [
        "nltk.download('punkt')\n",
        "pd.set_option(\"max_columns\", None)\n",
        "nlp = spacy.load('en_core_web_lg', disable=['ner','parser'])"
      ],
      "execution_count": 0,
      "outputs": []
    },
    {
      "metadata": {
        "id": "QvDWMcmL7gJq",
        "colab_type": "code",
        "colab": {}
      },
      "cell_type": "code",
      "source": [
        "def read_sentences_from_file(author, author_id, filename):\n",
        "  data = \"\"\n",
        "  sentences = []\n",
        "\n",
        "  # parse file\n",
        "  with open(\"C50/\"+author+\"/\"+filename, 'r') as file:\n",
        "      data=file.read()\n",
        "      \n",
        "  # split article into sentences\n",
        "  for sentence in tokenize.sent_tokenize(data):\n",
        "    sentences.append([author_id, sentence])\n",
        "  \n",
        "  return sentences"
      ],
      "execution_count": 0,
      "outputs": []
    },
    {
      "metadata": {
        "id": "Uouv0rk5Q3y8",
        "colab_type": "code",
        "colab": {}
      },
      "cell_type": "code",
      "source": [
        "# authors must be represented as numbers so we create\n",
        "# a list and the indexes are the repesentations - easy translation\n",
        "\n",
        "# array which contains the authors' names\n",
        "authors = []\n",
        "\n",
        "# translate back id - clear result\n",
        "def match_author(id):\n",
        "  return authors[id]"
      ],
      "execution_count": 0,
      "outputs": []
    },
    {
      "metadata": {
        "id": "SujEA2XF_alz",
        "colab_type": "code",
        "colab": {}
      },
      "cell_type": "code",
      "source": [
        "def load_raw_sentences():\n",
        "  raw_sentences = []\n",
        "  authors = []\n",
        "  # read every file (articles) in the previously given root directory, the subdirectories are the authors' names\n",
        "  for root, dirs, files in os.walk(\"C50\"):\n",
        "    for dir in dirs:\n",
        "      authors.append(str(dir))\n",
        "      for file in os.listdir(\"C50/\"+dir):\n",
        "        raw_sentences.extend(read_sentences_from_file(dir, len(authors)-1, file))\n",
        "\n",
        "  return raw_sentences, authors"
      ],
      "execution_count": 0,
      "outputs": []
    },
    {
      "metadata": {
        "id": "HJ6s1lWl248E",
        "colab_type": "text"
      },
      "cell_type": "markdown",
      "source": [
        "**Sentence parsing**\n",
        "\n",
        "We parse all the sentences with SpaCy in the followig way:\n",
        "\n",
        "1. Tokenize the sentence (split into words - in SpaCy the punctuation characters also count as words, but we remove them later, because they do not contain needed information)\n",
        "\n",
        "2. Get the vector form of each word, if it is not part of the largest collection (very rare words) we leave them out, because we can only use vectors for the inputs.\n",
        "\n",
        "3. Detect for each word which part of the sentence it is (part-of-speech tags - syntactic information)\n"
      ]
    },
    {
      "metadata": {
        "id": "NewjoP-KzrbS",
        "colab_type": "code",
        "colab": {}
      },
      "cell_type": "code",
      "source": [
        "def parse_raw_sentences(sentences, verbose=False):\n",
        "  # just for writing out fancy things\n",
        "  if verbose:\n",
        "    start_time = time.time()\n",
        "    s = \"\"\n",
        "    \n",
        "  parsed_sentences = np.empty([len(sentences)], dtype=[('author', object, 1), ('original', object, 1), ('parsed', object, 1)])\n",
        "  \n",
        "  # parse every sentence (word splitting -> tokens, determine part-of-speech tags for every word)\n",
        "  end = len(sentences)\n",
        "  for i in range(0, end):\n",
        "    author = sentences[i][0]\n",
        "    raw_sentence = sentences[i][1]\n",
        "    parsed = np.array([], dtype=[('text', object, 1), ('vector', object, 1), ('pos_str', object, 1), ('pos_num', object, 1)])\n",
        "    \n",
        "    doc = nlp(raw_sentence)\n",
        "   \n",
        "    for token in doc:\n",
        "      # filter out stop words (not relevant/useful)\n",
        "      # 96 = punctuation char (->SpaCy documentation)\n",
        "      # if a word does not have vector form filter it out (very, very rare case)\n",
        "      if not token.is_stop and not token.pos == 96 and token.has_vector:\n",
        "        parsed = np.append(parsed, np.array((token.text, token.vector, token.pos_, token.pos), dtype=[('text', object, 1), ('vector', object, 1), ('pos_str', object, 1), ('pos_num', object, 1)]))\n",
        "    \n",
        "      parsed_sentences[i] = (author, raw_sentence, parsed)\n",
        "    \n",
        "    # just for writing out fancy things\n",
        "    if verbose and (i+1)%1000 == 0 or i == end-1:\n",
        "      if i != 0: \n",
        "        s =  str(i+1)+ \"/\" + str(end) +\" sentences parsed in \" +str(round(time.time() - start_time))+ \" seconds.\"\n",
        "      \n",
        "      j = int((i+1)/end*50)\n",
        "    \n",
        "      sys.stdout.write('\\r'+ \"Processing. [\" + \"=\"*j + \">\" + \" \"*(50-j) + \"] \" + s )\n",
        "  \n",
        "  if verbose:\n",
        "    print('\\n' + \"Sentences successfully parsed.\")\n",
        "  \n",
        "  return parsed_sentences"
      ],
      "execution_count": 0,
      "outputs": []
    },
    {
      "metadata": {
        "id": "swUKZX2X9ZKq",
        "colab_type": "code",
        "colab": {}
      },
      "cell_type": "code",
      "source": [
        "def count_avg_sentence_len(sentences):\n",
        "  sum = 0\n",
        "  count = 0\n",
        "  for sentence in sentences['parsed']:\n",
        "    if type(sentence).__name__ == \"NoneType\":\n",
        "        print(sentence)\n",
        "        print(count)\n",
        "    sum += len(sentence)\n",
        "    count += 1\n",
        "  \n",
        "  return sum/count"
      ],
      "execution_count": 0,
      "outputs": []
    },
    {
      "metadata": {
        "id": "6suItkDJ29xG",
        "colab_type": "text"
      },
      "cell_type": "markdown",
      "source": [
        "**Equalization of the sentences in the dataset**\n",
        "\n",
        "We plan to use sentence based identification so out system needs sentences which have equal lengths (word count), but obviously the articles are not written in this way, so we have to make the equalization. We calculate the average word count of the sentences in the dataset and then we transform all of them to contain the same number of words (we round up the average to keep more sentences in the full form).\n",
        "\n",
        "Too short sentences are extended with wildcard (magic) words which will be filtered out in a way in the learning process.\n",
        "\n",
        "Too long sentences are simply cut to shape."
      ]
    },
    {
      "metadata": {
        "id": "MN1hSThT8s3d",
        "colab_type": "code",
        "colab": {}
      },
      "cell_type": "code",
      "source": [
        "def equalize_sentence_len(sentences):\n",
        "  # calculate the average sentence length and round it up (we try to keep most of the sentences)\n",
        "  avg = math.ceil(count_avg_sentence_len(sentences))\n",
        "  \n",
        "  equalized_sentences = np.empty([len(sentences)], dtype=[('author', object, 1), ('original', object, 1), ('parsed', object, 1)])\n",
        "  \n",
        "  n_sentences = 0\n",
        "  \n",
        "  # process \n",
        "  for i in range(0, len(sentences)):\n",
        "    sentence = sentences[i]\n",
        "    \n",
        "    sys.stdout.write('\\r'+ str(i) +\" sentences equalized.\")\n",
        "    \n",
        "    if len(sentence['parsed']) > 7:\n",
        "      n_sentences += 1\n",
        "      \n",
        "      # 'magic words' : text = Xxxxxx ; vector=nullvector ; pos_tag='' ; pos_tag number form : 0\n",
        "      # insert magic word into random positions for every sentence, which is too short (shorter, than average)\n",
        "      while len(sentence['parsed']) < avg:\n",
        "        idx = np.random.randint(len(sentence['parsed']))\n",
        "        sentence['parsed'] = np.insert(sentence['parsed'], idx, np.array((\"Xxxxxx\", np.zeros(300), \"\", 0), dtype=[('text', object, 1), ('vector', object, 1), ('pos_str', object, 1), ('pos_num', object, 1)]), axis=0)\n",
        "\n",
        "      # if sentence is too long cut it\n",
        "      if len(sentence['parsed']) > avg:\n",
        "        sentence['parsed'] = sentence['parsed'][0:avg]\n",
        "        \n",
        "      equalized_sentences[n_sentences-1] = sentence\n",
        "  \n",
        "  print('\\n')\n",
        "  return equalized_sentences[:n_sentences]"
      ],
      "execution_count": 0,
      "outputs": []
    },
    {
      "metadata": {
        "id": "f_gAUg9hFycB",
        "colab_type": "code",
        "outputId": "22129a30-72a1-4c07-bf9f-996c950f479d",
        "colab": {
          "base_uri": "https://localhost:8080/",
          "height": 34
        }
      },
      "cell_type": "code",
      "source": [
        "raw_sentences, authors = load_raw_sentences()\n",
        "print(\"Total number of the loaded sentences: \" + str(len(raw_sentences)))"
      ],
      "execution_count": 15,
      "outputs": [
        {
          "output_type": "stream",
          "text": [
            "Total number of the loaded sentences: 108473\n"
          ],
          "name": "stdout"
        }
      ]
    },
    {
      "metadata": {
        "id": "eFlD8nkey7bA",
        "colab_type": "code",
        "outputId": "8dcc2d87-9358-407a-b787-1e05a10ff270",
        "colab": {
          "base_uri": "https://localhost:8080/",
          "height": 51
        }
      },
      "cell_type": "code",
      "source": [
        "#load only the first 10000 sentences for demonstration (parsing 100000+ sentences would be 10+ minutes) 96k - 97k\n",
        "dataset = parse_raw_sentences(raw_sentences[:60000], True)"
      ],
      "execution_count": 16,
      "outputs": [
        {
          "output_type": "stream",
          "text": [
            "Processing. [==================================================>] 60000/60000 sentences parsed in 429 seconds.\n",
            "Sentences successfully parsed.\n"
          ],
          "name": "stdout"
        }
      ]
    },
    {
      "metadata": {
        "id": "DiFr9OpPXs0J",
        "colab_type": "code",
        "colab": {}
      },
      "cell_type": "code",
      "source": [
        "dataset_safe = dataset"
      ],
      "execution_count": 0,
      "outputs": []
    },
    {
      "metadata": {
        "id": "x8sAM7X8_fPs",
        "colab_type": "code",
        "outputId": "59ec8ce3-5a3c-497d-842c-32783fa56918",
        "colab": {
          "base_uri": "https://localhost:8080/",
          "height": 102
        }
      },
      "cell_type": "code",
      "source": [
        "avg_before = count_avg_sentence_len(dataset)\n",
        "print(\"The average sentence length before the equalization: \" + str(avg_before) + '\\n')\n",
        "\n",
        "# equalize the length of the sentences (we need the number of words to be equal)\n",
        "dataset = equalize_sentence_len(dataset)\n",
        "\n",
        "avg_after = count_avg_sentence_len(dataset)\n",
        "print(\"And after: \" + str(avg_after))"
      ],
      "execution_count": 18,
      "outputs": [
        {
          "output_type": "stream",
          "text": [
            "The average sentence length before the equalization: 24.027566666666665\n",
            "\n",
            "59999 sentences equalized.\n",
            "\n",
            "And after: 25.0\n"
          ],
          "name": "stdout"
        }
      ]
    },
    {
      "metadata": {
        "id": "x5IMsfD36Gpw",
        "colab_type": "code",
        "outputId": "f7f44328-caa7-4799-d4da-f8f71e519336",
        "colab": {
          "base_uri": "https://localhost:8080/",
          "height": 125
        }
      },
      "cell_type": "code",
      "source": [
        "print(\"One sample sentence:\\n\")\n",
        "print(\"Author: \" + str(authors[dataset[\"author\"][0]]) )\n",
        "print(\"Sentence: \" + dataset[\"original\"][0])"
      ],
      "execution_count": 19,
      "outputs": [
        {
          "output_type": "stream",
          "text": [
            "One sample sentence:\n",
            "\n",
            "Author: PierreTran\n",
            "Sentence: The restructuring of France's defence sector and the key role of state-owned Aerospatiale in the process are complicating moves by the European Airbus consortium to become a limited liability company, analysts say.\n"
          ],
          "name": "stdout"
        }
      ]
    },
    {
      "metadata": {
        "id": "AenGC9te0ub4",
        "colab_type": "code",
        "outputId": "40a13261-c0b1-4eb8-9baf-e66b68178e19",
        "colab": {
          "base_uri": "https://localhost:8080/",
          "height": 315
        }
      },
      "cell_type": "code",
      "source": [
        "print(\"The parsed form of the above sentence:\")\n",
        "df = pd.DataFrame(data=dataset[\"parsed\"][0])\n",
        "df.T"
      ],
      "execution_count": 20,
      "outputs": [
        {
          "output_type": "stream",
          "text": [
            "The parsed form of the above sentence:\n"
          ],
          "name": "stdout"
        },
        {
          "output_type": "execute_result",
          "data": {
            "text/html": [
              "<div>\n",
              "<style scoped>\n",
              "    .dataframe tbody tr th:only-of-type {\n",
              "        vertical-align: middle;\n",
              "    }\n",
              "\n",
              "    .dataframe tbody tr th {\n",
              "        vertical-align: top;\n",
              "    }\n",
              "\n",
              "    .dataframe thead th {\n",
              "        text-align: right;\n",
              "    }\n",
              "</style>\n",
              "<table border=\"1\" class=\"dataframe\">\n",
              "  <thead>\n",
              "    <tr style=\"text-align: right;\">\n",
              "      <th></th>\n",
              "      <th>0</th>\n",
              "      <th>1</th>\n",
              "      <th>2</th>\n",
              "      <th>3</th>\n",
              "      <th>4</th>\n",
              "      <th>5</th>\n",
              "      <th>6</th>\n",
              "      <th>7</th>\n",
              "      <th>8</th>\n",
              "      <th>9</th>\n",
              "      <th>10</th>\n",
              "      <th>11</th>\n",
              "      <th>12</th>\n",
              "      <th>13</th>\n",
              "      <th>14</th>\n",
              "      <th>15</th>\n",
              "      <th>16</th>\n",
              "      <th>17</th>\n",
              "      <th>18</th>\n",
              "      <th>19</th>\n",
              "      <th>20</th>\n",
              "      <th>21</th>\n",
              "      <th>22</th>\n",
              "      <th>23</th>\n",
              "      <th>24</th>\n",
              "    </tr>\n",
              "  </thead>\n",
              "  <tbody>\n",
              "    <tr>\n",
              "      <th>text</th>\n",
              "      <td>The</td>\n",
              "      <td>restructuring</td>\n",
              "      <td>of</td>\n",
              "      <td>France</td>\n",
              "      <td>'s</td>\n",
              "      <td>defence</td>\n",
              "      <td>sector</td>\n",
              "      <td>and</td>\n",
              "      <td>the</td>\n",
              "      <td>key</td>\n",
              "      <td>role</td>\n",
              "      <td>of</td>\n",
              "      <td>state</td>\n",
              "      <td>owned</td>\n",
              "      <td>in</td>\n",
              "      <td>the</td>\n",
              "      <td>process</td>\n",
              "      <td>are</td>\n",
              "      <td>complicating</td>\n",
              "      <td>moves</td>\n",
              "      <td>by</td>\n",
              "      <td>the</td>\n",
              "      <td>European</td>\n",
              "      <td>Airbus</td>\n",
              "      <td>consortium</td>\n",
              "    </tr>\n",
              "    <tr>\n",
              "      <th>vector</th>\n",
              "      <td>[0.27204, -0.06203, -0.1884, 0.023225, -0.0181...</td>\n",
              "      <td>[-0.014888, 0.46349, 0.17002, 0.071424, -0.324...</td>\n",
              "      <td>[0.060216, 0.21799, -0.04249, -0.38618, -0.153...</td>\n",
              "      <td>[-0.16306, 0.45292, -0.14638, -0.64332, 0.7901...</td>\n",
              "      <td>[-0.06858, 0.4647, 0.13214, 0.18599, -0.037015...</td>\n",
              "      <td>[-0.19166, 0.029525, 0.29589, -0.0074387, -0.0...</td>\n",
              "      <td>[-0.22519, -0.0038701, 0.70118, -0.3173, 0.310...</td>\n",
              "      <td>[-0.18567, 0.066008, -0.25209, -0.11725, 0.265...</td>\n",
              "      <td>[0.27204, -0.06203, -0.1884, 0.023225, -0.0181...</td>\n",
              "      <td>[0.33578, 0.30902, 0.12098, 0.28478, 0.1912, -...</td>\n",
              "      <td>[0.061541, 0.018384, -0.14051, 0.38658, -0.366...</td>\n",
              "      <td>[0.060216, 0.21799, -0.04249, -0.38618, -0.153...</td>\n",
              "      <td>[0.17925, 0.13343, 0.50349, -0.16948, 0.084366...</td>\n",
              "      <td>[0.22627, -0.49824, -0.1902, -0.79974, 0.22603...</td>\n",
              "      <td>[0.089187, 0.25792, 0.26282, -0.029365, 0.4718...</td>\n",
              "      <td>[0.27204, -0.06203, -0.1884, 0.023225, -0.0181...</td>\n",
              "      <td>[-0.4198, 0.35442, -0.046745, 0.029734, -0.282...</td>\n",
              "      <td>[-0.19859, -0.062818, -0.36614, -0.41786, 0.20...</td>\n",
              "      <td>[-0.19487, 0.26783, 0.13248, 0.11664, -0.59535...</td>\n",
              "      <td>[0.04274, 0.017064, -0.16807, -0.0042404, 0.63...</td>\n",
              "      <td>[-0.15552, -0.33723, -0.097191, -0.21617, -0.3...</td>\n",
              "      <td>[0.27204, -0.06203, -0.1884, 0.023225, -0.0181...</td>\n",
              "      <td>[-0.54638, -0.15723, 0.13512, -0.086275, 0.521...</td>\n",
              "      <td>[0.51443, 0.033396, 0.42992, -0.3703, 0.034822...</td>\n",
              "      <td>[-0.11816, -0.86385, 0.83966, -0.33966, 0.0389...</td>\n",
              "    </tr>\n",
              "    <tr>\n",
              "      <th>pos_str</th>\n",
              "      <td>DET</td>\n",
              "      <td>NOUN</td>\n",
              "      <td>ADP</td>\n",
              "      <td>PROPN</td>\n",
              "      <td>PART</td>\n",
              "      <td>NOUN</td>\n",
              "      <td>NOUN</td>\n",
              "      <td>CCONJ</td>\n",
              "      <td>DET</td>\n",
              "      <td>ADJ</td>\n",
              "      <td>NOUN</td>\n",
              "      <td>ADP</td>\n",
              "      <td>NOUN</td>\n",
              "      <td>VERB</td>\n",
              "      <td>ADP</td>\n",
              "      <td>DET</td>\n",
              "      <td>NOUN</td>\n",
              "      <td>VERB</td>\n",
              "      <td>VERB</td>\n",
              "      <td>NOUN</td>\n",
              "      <td>ADP</td>\n",
              "      <td>DET</td>\n",
              "      <td>PROPN</td>\n",
              "      <td>PROPN</td>\n",
              "      <td>NOUN</td>\n",
              "    </tr>\n",
              "    <tr>\n",
              "      <th>pos_num</th>\n",
              "      <td>89</td>\n",
              "      <td>91</td>\n",
              "      <td>84</td>\n",
              "      <td>95</td>\n",
              "      <td>93</td>\n",
              "      <td>91</td>\n",
              "      <td>91</td>\n",
              "      <td>88</td>\n",
              "      <td>89</td>\n",
              "      <td>83</td>\n",
              "      <td>91</td>\n",
              "      <td>84</td>\n",
              "      <td>91</td>\n",
              "      <td>99</td>\n",
              "      <td>84</td>\n",
              "      <td>89</td>\n",
              "      <td>91</td>\n",
              "      <td>99</td>\n",
              "      <td>99</td>\n",
              "      <td>91</td>\n",
              "      <td>84</td>\n",
              "      <td>89</td>\n",
              "      <td>95</td>\n",
              "      <td>95</td>\n",
              "      <td>91</td>\n",
              "    </tr>\n",
              "  </tbody>\n",
              "</table>\n",
              "</div>"
            ],
            "text/plain": [
              "                                                        0   \\\n",
              "text                                                   The   \n",
              "vector   [0.27204, -0.06203, -0.1884, 0.023225, -0.0181...   \n",
              "pos_str                                                DET   \n",
              "pos_num                                                 89   \n",
              "\n",
              "                                                        1   \\\n",
              "text                                         restructuring   \n",
              "vector   [-0.014888, 0.46349, 0.17002, 0.071424, -0.324...   \n",
              "pos_str                                               NOUN   \n",
              "pos_num                                                 91   \n",
              "\n",
              "                                                        2   \\\n",
              "text                                                    of   \n",
              "vector   [0.060216, 0.21799, -0.04249, -0.38618, -0.153...   \n",
              "pos_str                                                ADP   \n",
              "pos_num                                                 84   \n",
              "\n",
              "                                                        3   \\\n",
              "text                                                France   \n",
              "vector   [-0.16306, 0.45292, -0.14638, -0.64332, 0.7901...   \n",
              "pos_str                                              PROPN   \n",
              "pos_num                                                 95   \n",
              "\n",
              "                                                        4   \\\n",
              "text                                                    's   \n",
              "vector   [-0.06858, 0.4647, 0.13214, 0.18599, -0.037015...   \n",
              "pos_str                                               PART   \n",
              "pos_num                                                 93   \n",
              "\n",
              "                                                        5   \\\n",
              "text                                               defence   \n",
              "vector   [-0.19166, 0.029525, 0.29589, -0.0074387, -0.0...   \n",
              "pos_str                                               NOUN   \n",
              "pos_num                                                 91   \n",
              "\n",
              "                                                        6   \\\n",
              "text                                                sector   \n",
              "vector   [-0.22519, -0.0038701, 0.70118, -0.3173, 0.310...   \n",
              "pos_str                                               NOUN   \n",
              "pos_num                                                 91   \n",
              "\n",
              "                                                        7   \\\n",
              "text                                                   and   \n",
              "vector   [-0.18567, 0.066008, -0.25209, -0.11725, 0.265...   \n",
              "pos_str                                              CCONJ   \n",
              "pos_num                                                 88   \n",
              "\n",
              "                                                        8   \\\n",
              "text                                                   the   \n",
              "vector   [0.27204, -0.06203, -0.1884, 0.023225, -0.0181...   \n",
              "pos_str                                                DET   \n",
              "pos_num                                                 89   \n",
              "\n",
              "                                                        9   \\\n",
              "text                                                   key   \n",
              "vector   [0.33578, 0.30902, 0.12098, 0.28478, 0.1912, -...   \n",
              "pos_str                                                ADJ   \n",
              "pos_num                                                 83   \n",
              "\n",
              "                                                        10  \\\n",
              "text                                                  role   \n",
              "vector   [0.061541, 0.018384, -0.14051, 0.38658, -0.366...   \n",
              "pos_str                                               NOUN   \n",
              "pos_num                                                 91   \n",
              "\n",
              "                                                        11  \\\n",
              "text                                                    of   \n",
              "vector   [0.060216, 0.21799, -0.04249, -0.38618, -0.153...   \n",
              "pos_str                                                ADP   \n",
              "pos_num                                                 84   \n",
              "\n",
              "                                                        12  \\\n",
              "text                                                 state   \n",
              "vector   [0.17925, 0.13343, 0.50349, -0.16948, 0.084366...   \n",
              "pos_str                                               NOUN   \n",
              "pos_num                                                 91   \n",
              "\n",
              "                                                        13  \\\n",
              "text                                                 owned   \n",
              "vector   [0.22627, -0.49824, -0.1902, -0.79974, 0.22603...   \n",
              "pos_str                                               VERB   \n",
              "pos_num                                                 99   \n",
              "\n",
              "                                                        14  \\\n",
              "text                                                    in   \n",
              "vector   [0.089187, 0.25792, 0.26282, -0.029365, 0.4718...   \n",
              "pos_str                                                ADP   \n",
              "pos_num                                                 84   \n",
              "\n",
              "                                                        15  \\\n",
              "text                                                   the   \n",
              "vector   [0.27204, -0.06203, -0.1884, 0.023225, -0.0181...   \n",
              "pos_str                                                DET   \n",
              "pos_num                                                 89   \n",
              "\n",
              "                                                        16  \\\n",
              "text                                               process   \n",
              "vector   [-0.4198, 0.35442, -0.046745, 0.029734, -0.282...   \n",
              "pos_str                                               NOUN   \n",
              "pos_num                                                 91   \n",
              "\n",
              "                                                        17  \\\n",
              "text                                                   are   \n",
              "vector   [-0.19859, -0.062818, -0.36614, -0.41786, 0.20...   \n",
              "pos_str                                               VERB   \n",
              "pos_num                                                 99   \n",
              "\n",
              "                                                        18  \\\n",
              "text                                          complicating   \n",
              "vector   [-0.19487, 0.26783, 0.13248, 0.11664, -0.59535...   \n",
              "pos_str                                               VERB   \n",
              "pos_num                                                 99   \n",
              "\n",
              "                                                        19  \\\n",
              "text                                                 moves   \n",
              "vector   [0.04274, 0.017064, -0.16807, -0.0042404, 0.63...   \n",
              "pos_str                                               NOUN   \n",
              "pos_num                                                 91   \n",
              "\n",
              "                                                        20  \\\n",
              "text                                                    by   \n",
              "vector   [-0.15552, -0.33723, -0.097191, -0.21617, -0.3...   \n",
              "pos_str                                                ADP   \n",
              "pos_num                                                 84   \n",
              "\n",
              "                                                        21  \\\n",
              "text                                                   the   \n",
              "vector   [0.27204, -0.06203, -0.1884, 0.023225, -0.0181...   \n",
              "pos_str                                                DET   \n",
              "pos_num                                                 89   \n",
              "\n",
              "                                                        22  \\\n",
              "text                                              European   \n",
              "vector   [-0.54638, -0.15723, 0.13512, -0.086275, 0.521...   \n",
              "pos_str                                              PROPN   \n",
              "pos_num                                                 95   \n",
              "\n",
              "                                                        23  \\\n",
              "text                                                Airbus   \n",
              "vector   [0.51443, 0.033396, 0.42992, -0.3703, 0.034822...   \n",
              "pos_str                                              PROPN   \n",
              "pos_num                                                 95   \n",
              "\n",
              "                                                        24  \n",
              "text                                            consortium  \n",
              "vector   [-0.11816, -0.86385, 0.83966, -0.33966, 0.0389...  \n",
              "pos_str                                               NOUN  \n",
              "pos_num                                                 91  "
            ]
          },
          "metadata": {
            "tags": []
          },
          "execution_count": 20
        }
      ]
    },
    {
      "metadata": {
        "id": "JS56XviL7pLP",
        "colab_type": "text"
      },
      "cell_type": "markdown",
      "source": [
        "**Preparing dataset for the NeuralNetwork**"
      ]
    },
    {
      "metadata": {
        "id": "q3UASMRu7pzZ",
        "colab_type": "code",
        "colab": {}
      },
      "cell_type": "code",
      "source": [
        "def prepare_for_nn(dataset):\n",
        "  # sentence_shape: (n_words_per_sentence, word_repr_vector_size) - word_repr_vector_size is the vector representation of the parsed word (300) + last value is the part-of-speech tag (1) => 301 \n",
        "  # input_shape: (n_sentences, n_words_per_sentence, word_repr_vector_size)\n",
        "  \n",
        "  n_sentences           = len(dataset)\n",
        "  n_words_per_sentence  = len(dataset[0][\"parsed\"][\"vector\"])\n",
        "  word_repr_vector_size = len(dataset[0][\"parsed\"][\"vector\"][0])+1\n",
        "  \n",
        "  sentence_shape = (n_words_per_sentence , word_repr_vector_size)\n",
        "  \n",
        "  reworked = np.empty([n_sentences], dtype=[('input', np.float32, sentence_shape), ('output', np.float32, 1)])\n",
        "  \n",
        "  for row in range(0, n_sentences):\n",
        "    reworked[\"output\"][row] = dataset[row][\"author\"]\n",
        "    \n",
        "    for i in range(0, n_words_per_sentence):\n",
        "        reworked[\"input\"][row][i] = np.append(dataset[row][\"parsed\"][\"vector\"][i], dataset[row][\"parsed\"][\"pos_num\"][i]/100)\n",
        "  \n",
        "  return reworked"
      ],
      "execution_count": 0,
      "outputs": []
    },
    {
      "metadata": {
        "id": "FJLraVmdtpg6",
        "colab_type": "code",
        "colab": {}
      },
      "cell_type": "code",
      "source": [
        "reworked_dataset = prepare_for_nn(dataset)"
      ],
      "execution_count": 0,
      "outputs": []
    },
    {
      "metadata": {
        "id": "36_RfV2j63BB",
        "colab_type": "text"
      },
      "cell_type": "markdown",
      "source": [
        "##Export the generated dataset to Google Drive"
      ]
    },
    {
      "metadata": {
        "id": "L5x0-HBoOefA",
        "colab_type": "code",
        "colab": {
          "base_uri": "https://localhost:8080/",
          "height": 121
        },
        "outputId": "b50976b0-96e0-4346-fe14-eae01cb25eed"
      },
      "cell_type": "code",
      "source": [
        "from google.colab import drive\n",
        "drive.mount('/content/gdrive')"
      ],
      "execution_count": 6,
      "outputs": [
        {
          "output_type": "stream",
          "text": [
            "Go to this URL in a browser: https://accounts.google.com/o/oauth2/auth?client_id=947318989803-6bn6qk8qdgf4n4g3pfee6491hc0brc4i.apps.googleusercontent.com&redirect_uri=urn%3Aietf%3Awg%3Aoauth%3A2.0%3Aoob&scope=email%20https%3A%2F%2Fwww.googleapis.com%2Fauth%2Fdocs.test%20https%3A%2F%2Fwww.googleapis.com%2Fauth%2Fdrive%20https%3A%2F%2Fwww.googleapis.com%2Fauth%2Fdrive.photos.readonly%20https%3A%2F%2Fwww.googleapis.com%2Fauth%2Fpeopleapi.readonly&response_type=code\n",
            "\n",
            "Enter your authorization code:\n",
            "··········\n",
            "Mounted at /content/gdrive\n"
          ],
          "name": "stdout"
        }
      ]
    },
    {
      "metadata": {
        "id": "RTq37mls8lll",
        "colab_type": "code",
        "colab": {}
      },
      "cell_type": "code",
      "source": [
        "#because of high memory usage, we save the dataset in two parts\n",
        "import pickle\n",
        "with open(\"/content/gdrive/My Drive/loremipsum/reworked_dataset.serialized.part1\", 'wb') as output:\n",
        "   pickle.dump(reworked_dataset[:50000], output, -1)"
      ],
      "execution_count": 0,
      "outputs": []
    },
    {
      "metadata": {
        "id": "d6TsRa2l8m1j",
        "colab_type": "code",
        "colab": {}
      },
      "cell_type": "code",
      "source": [
        "with open(\"/content/gdrive/My Drive/loremipsum/reworked_dataset.serialized.part2\", 'wb') as output:\n",
        "    pickle.dump(reworked_dataset[50000:], output, -1)"
      ],
      "execution_count": 0,
      "outputs": []
    },
    {
      "metadata": {
        "id": "nQzTZY6r8nfK",
        "colab_type": "code",
        "colab": {}
      },
      "cell_type": "code",
      "source": [
        "with open(\"/content/gdrive/My Drive/loremipsum/authors.serialized\", 'wb') as output:\n",
        "    pickle.dump(authors, output, -1)"
      ],
      "execution_count": 0,
      "outputs": []
    },
    {
      "metadata": {
        "id": "9ZcExmUM7KNi",
        "colab_type": "text"
      },
      "cell_type": "markdown",
      "source": [
        "##Import the generated dataset from Google Drive"
      ]
    },
    {
      "metadata": {
        "id": "WzDAByH18oa1",
        "colab_type": "code",
        "colab": {}
      },
      "cell_type": "code",
      "source": [
        "#import\n",
        "import pickle\n",
        "with open('/content/gdrive/My Drive/loremipsum/reworked_dataset.serialized.part1', 'rb') as input:\n",
        "    part1 = pickle.load(input)"
      ],
      "execution_count": 0,
      "outputs": []
    },
    {
      "metadata": {
        "id": "TecKEu_98pHo",
        "colab_type": "code",
        "colab": {}
      },
      "cell_type": "code",
      "source": [
        "with open('/content/gdrive/My Drive/loremipsum/reworked_dataset.serialized.part2', 'rb') as input:\n",
        "    part2 = pickle.load(input)"
      ],
      "execution_count": 0,
      "outputs": []
    },
    {
      "metadata": {
        "id": "fVsVabeo8qd8",
        "colab_type": "code",
        "colab": {}
      },
      "cell_type": "code",
      "source": [
        "reworked_dataset = np.concatenate((part1, part2), axis=0)"
      ],
      "execution_count": 0,
      "outputs": []
    },
    {
      "metadata": {
        "id": "PiSdzBf-8sz7",
        "colab_type": "code",
        "colab": {}
      },
      "cell_type": "code",
      "source": [
        "with open('/content/gdrive/My Drive/loremipsum/authors.serialized', 'rb') as input:\n",
        "    authors = pickle.load(input)"
      ],
      "execution_count": 0,
      "outputs": []
    },
    {
      "metadata": {
        "id": "btfOk9cX7eXk",
        "colab_type": "text"
      },
      "cell_type": "markdown",
      "source": [
        "##Splitting the dataset"
      ]
    },
    {
      "metadata": {
        "id": "hK_-uEO42DOr",
        "colab_type": "code",
        "colab": {}
      },
      "cell_type": "code",
      "source": [
        "nb_samples = len(reworked_dataset)\n",
        "valid_split = 0.2\n",
        "test_split = 0.1"
      ],
      "execution_count": 0,
      "outputs": []
    },
    {
      "metadata": {
        "id": "sy6uIQQ21FVA",
        "colab_type": "code",
        "colab": {}
      },
      "cell_type": "code",
      "source": [
        "#shuffle the dataset\n",
        "np.random.shuffle(reworked_dataset)"
      ],
      "execution_count": 0,
      "outputs": []
    },
    {
      "metadata": {
        "id": "vBLXG1TIQRxz",
        "colab_type": "code",
        "colab": {}
      },
      "cell_type": "code",
      "source": [
        "# train-valid-test split\n",
        "#input\n",
        "X_train = reworked_dataset['input'][0:int(nb_samples*(1-valid_split-test_split))]\n",
        "X_valid = reworked_dataset['input'][int(nb_samples*(1-valid_split-test_split)):int(nb_samples*(1-test_split))]\n",
        "X_test  = reworked_dataset['input'][int(nb_samples*(1-test_split)):]\n",
        "\n",
        "#output\n",
        "Y_train = reworked_dataset['output'][0:int(nb_samples*(1-valid_split-test_split))]\n",
        "Y_valid = reworked_dataset['output'][int(nb_samples*(1-valid_split-test_split)):int(nb_samples*(1-test_split))]\n",
        "Y_test  = reworked_dataset['output'][int(nb_samples*(1-test_split)):]"
      ],
      "execution_count": 0,
      "outputs": []
    },
    {
      "metadata": {
        "id": "dvyOE1FzUsHi",
        "colab_type": "code",
        "colab": {}
      },
      "cell_type": "code",
      "source": [
        "# one hot encoding\n",
        "Y_train = np_utils.to_categorical(Y_train, len(authors))\n",
        "Y_valid = np_utils.to_categorical(Y_valid, len(authors))\n",
        "Y_test = np_utils.to_categorical(Y_test, len(authors))"
      ],
      "execution_count": 0,
      "outputs": []
    },
    {
      "metadata": {
        "id": "LkUePrgoP9h3",
        "colab_type": "text"
      },
      "cell_type": "markdown",
      "source": [
        "## Neural Network\n",
        "\n",
        "**Milestone II**"
      ]
    },
    {
      "metadata": {
        "id": "G0Dy-nKEmiiV",
        "colab_type": "code",
        "colab": {}
      },
      "cell_type": "code",
      "source": [
        "# imports\n",
        "%matplotlib inline\n",
        "import matplotlib.pyplot as plt\n",
        "from keras.layers import Dense, Activation, Dropout, LSTM, Conv1D, MaxPooling1D, AveragePooling1D\n",
        "from keras.models import Sequential, load_model\n",
        "from keras.callbacks import EarlyStopping, ModelCheckpoint"
      ],
      "execution_count": 0,
      "outputs": []
    },
    {
      "metadata": {
        "id": "xS0BgN26kMHH",
        "colab_type": "code",
        "colab": {}
      },
      "cell_type": "code",
      "source": [
        "\n",
        "def plot_history(network_history):\n",
        "    \n",
        "    #set pltting attributes\n",
        "    #loss-epochs\n",
        "    plt.figure()\n",
        "    plt.xlabel('Epochs')\n",
        "    plt.ylabel('Loss')\n",
        "    plt.plot(network_history.history['loss'])\n",
        "    plt.plot(network_history.history['val_loss'])\n",
        "    plt.legend(['Training', 'Validation'])\n",
        "\n",
        "    #accuracy-epochs\n",
        "    plt.figure()\n",
        "    plt.xlabel('Epochs')\n",
        "    plt.ylabel('Accuracy')\n",
        "    plt.plot(network_history.history['acc'])\n",
        "    plt.plot(network_history.history['val_acc'])\n",
        "    plt.legend(['Training', 'Validation'])\n",
        "    \n",
        "    plt.show()"
      ],
      "execution_count": 0,
      "outputs": []
    },
    {
      "metadata": {
        "id": "LqAdI7RgJHLk",
        "colab_type": "code",
        "colab": {}
      },
      "cell_type": "code",
      "source": [
        "#setup early stopping\n",
        "es = EarlyStopping(patience=5, verbose=1, min_delta=0.005)\n",
        "\n",
        "#we are going to keep only the best model\n",
        "mcp = ModelCheckpoint(filepath='weights.hdf5', verbose=1, save_best_only=True)\n",
        "\n",
        "model = Sequential()\n",
        "\n",
        "#adding a 1D convolutional layers speeds up learning, but lowers the accuracy\n",
        "# model.add(Conv1D(input_shape=X_train[0].shape, filters=301, kernel_size=4, padding='same', activation='relu'))\n",
        "# model.add(MaxPooling1D(pool_size=2))\n",
        "# model.add(Dropout(0.4))\n",
        "\n",
        "\n",
        "#we are adding an lstm layer with a decent dropout\n",
        "model.add(LSTM(1000, dropout=0.4, recurrent_dropout=0.4, return_sequences=False, input_shape=X_train[0].shape))\n",
        "\n",
        "model.add(Dense(len(authors), activation=\"softmax\"))\n",
        "\n",
        "model.compile(loss='categorical_crossentropy', optimizer='adam', metrics=['mae','acc'])"
      ],
      "execution_count": 0,
      "outputs": []
    },
    {
      "metadata": {
        "id": "h3ayg_gEonBl",
        "colab_type": "code",
        "colab": {
          "base_uri": "https://localhost:8080/",
          "height": 1818
        },
        "outputId": "2c4f6c5c-66f3-4ffb-9437-d7a97e7ebef5"
      },
      "cell_type": "code",
      "source": [
        "# set parameters and start learning\n",
        "history = model.fit(X_train, Y_train, \n",
        "          batch_size=1024, \n",
        "          epochs=30, # early stopping detects the end\n",
        "          verbose=1, \n",
        "          validation_data=(X_valid, Y_valid), \n",
        "          shuffle=True,\n",
        "          callbacks=[mcp, es]\n",
        "         )\n",
        "\n",
        "# load back best model (early stopping + model checkpoint)\n",
        "model = load_model('weights.hdf5')"
      ],
      "execution_count": 89,
      "outputs": [
        {
          "output_type": "stream",
          "text": [
            "Train on 72049 samples, validate on 20586 samples\n",
            "Epoch 1/30\n",
            "72049/72049 [==============================] - 50s 700us/step - loss: 3.2009 - mean_absolute_error: 0.0369 - acc: 0.1564 - val_loss: 2.5487 - val_mean_absolute_error: 0.0337 - val_acc: 0.2887\n",
            "\n",
            "Epoch 00001: val_loss improved from inf to 2.54870, saving model to weights.hdf5\n",
            "Epoch 2/30\n",
            "72049/72049 [==============================] - 41s 572us/step - loss: 2.5836 - mean_absolute_error: 0.0334 - acc: 0.2849 - val_loss: 2.2518 - val_mean_absolute_error: 0.0310 - val_acc: 0.3678\n",
            "\n",
            "Epoch 00002: val_loss improved from 2.54870 to 2.25183, saving model to weights.hdf5\n",
            "Epoch 3/30\n",
            "72049/72049 [==============================] - 41s 570us/step - loss: 2.3094 - mean_absolute_error: 0.0311 - acc: 0.3528 - val_loss: 2.0863 - val_mean_absolute_error: 0.0294 - val_acc: 0.4091\n",
            "\n",
            "Epoch 00003: val_loss improved from 2.25183 to 2.08633, saving model to weights.hdf5\n",
            "Epoch 4/30\n",
            "72049/72049 [==============================] - 41s 568us/step - loss: 2.1372 - mean_absolute_error: 0.0295 - acc: 0.3964 - val_loss: 1.9654 - val_mean_absolute_error: 0.0277 - val_acc: 0.4384\n",
            "\n",
            "Epoch 00004: val_loss improved from 2.08633 to 1.96541, saving model to weights.hdf5\n",
            "Epoch 5/30\n",
            "72049/72049 [==============================] - 41s 570us/step - loss: 2.0085 - mean_absolute_error: 0.0283 - acc: 0.4294 - val_loss: 1.8649 - val_mean_absolute_error: 0.0267 - val_acc: 0.4660\n",
            "\n",
            "Epoch 00005: val_loss improved from 1.96541 to 1.86495, saving model to weights.hdf5\n",
            "Epoch 6/30\n",
            "72049/72049 [==============================] - 41s 570us/step - loss: 1.8999 - mean_absolute_error: 0.0272 - acc: 0.4544 - val_loss: 1.8053 - val_mean_absolute_error: 0.0259 - val_acc: 0.4807\n",
            "\n",
            "Epoch 00006: val_loss improved from 1.86495 to 1.80525, saving model to weights.hdf5\n",
            "Epoch 7/30\n",
            "72049/72049 [==============================] - 41s 570us/step - loss: 1.7987 - mean_absolute_error: 0.0262 - acc: 0.4818 - val_loss: 1.7350 - val_mean_absolute_error: 0.0253 - val_acc: 0.4978\n",
            "\n",
            "Epoch 00007: val_loss improved from 1.80525 to 1.73502, saving model to weights.hdf5\n",
            "Epoch 8/30\n",
            "72049/72049 [==============================] - 41s 569us/step - loss: 1.7127 - mean_absolute_error: 0.0253 - acc: 0.5053 - val_loss: 1.6908 - val_mean_absolute_error: 0.0244 - val_acc: 0.5098\n",
            "\n",
            "Epoch 00008: val_loss improved from 1.73502 to 1.69085, saving model to weights.hdf5\n",
            "Epoch 9/30\n",
            "72049/72049 [==============================] - 41s 569us/step - loss: 1.6313 - mean_absolute_error: 0.0245 - acc: 0.5246 - val_loss: 1.6415 - val_mean_absolute_error: 0.0238 - val_acc: 0.5281\n",
            "\n",
            "Epoch 00009: val_loss improved from 1.69085 to 1.64147, saving model to weights.hdf5\n",
            "Epoch 10/30\n",
            "72049/72049 [==============================] - 41s 569us/step - loss: 1.5529 - mean_absolute_error: 0.0237 - acc: 0.5479 - val_loss: 1.6013 - val_mean_absolute_error: 0.0233 - val_acc: 0.5327\n",
            "\n",
            "Epoch 00010: val_loss improved from 1.64147 to 1.60127, saving model to weights.hdf5\n",
            "Epoch 11/30\n",
            "72049/72049 [==============================] - 41s 567us/step - loss: 1.4805 - mean_absolute_error: 0.0229 - acc: 0.5647 - val_loss: 1.5661 - val_mean_absolute_error: 0.0226 - val_acc: 0.5488\n",
            "\n",
            "Epoch 00011: val_loss improved from 1.60127 to 1.56608, saving model to weights.hdf5\n",
            "Epoch 12/30\n",
            "72049/72049 [==============================] - 41s 569us/step - loss: 1.4086 - mean_absolute_error: 0.0221 - acc: 0.5887 - val_loss: 1.5365 - val_mean_absolute_error: 0.0221 - val_acc: 0.5538\n",
            "\n",
            "Epoch 00012: val_loss improved from 1.56608 to 1.53652, saving model to weights.hdf5\n",
            "Epoch 13/30\n",
            "72049/72049 [==============================] - 41s 570us/step - loss: 1.3387 - mean_absolute_error: 0.0213 - acc: 0.6069 - val_loss: 1.5068 - val_mean_absolute_error: 0.0217 - val_acc: 0.5646\n",
            "\n",
            "Epoch 00013: val_loss improved from 1.53652 to 1.50675, saving model to weights.hdf5\n",
            "Epoch 14/30\n",
            "72049/72049 [==============================] - 41s 569us/step - loss: 1.2740 - mean_absolute_error: 0.0206 - acc: 0.6251 - val_loss: 1.4818 - val_mean_absolute_error: 0.0211 - val_acc: 0.5748\n",
            "\n",
            "Epoch 00014: val_loss improved from 1.50675 to 1.48181, saving model to weights.hdf5\n",
            "Epoch 15/30\n",
            "72049/72049 [==============================] - 41s 569us/step - loss: 1.2100 - mean_absolute_error: 0.0198 - acc: 0.6430 - val_loss: 1.4833 - val_mean_absolute_error: 0.0206 - val_acc: 0.5778\n",
            "\n",
            "Epoch 00015: val_loss did not improve from 1.48181\n",
            "Epoch 16/30\n",
            "72049/72049 [==============================] - 41s 570us/step - loss: 1.1514 - mean_absolute_error: 0.0191 - acc: 0.6596 - val_loss: 1.4532 - val_mean_absolute_error: 0.0202 - val_acc: 0.5878\n",
            "\n",
            "Epoch 00016: val_loss improved from 1.48181 to 1.45318, saving model to weights.hdf5\n",
            "Epoch 17/30\n",
            "72049/72049 [==============================] - 41s 570us/step - loss: 1.0935 - mean_absolute_error: 0.0185 - acc: 0.6771 - val_loss: 1.4461 - val_mean_absolute_error: 0.0200 - val_acc: 0.5919\n",
            "\n",
            "Epoch 00017: val_loss improved from 1.45318 to 1.44615, saving model to weights.hdf5\n",
            "Epoch 18/30\n",
            "72049/72049 [==============================] - 41s 569us/step - loss: 1.0454 - mean_absolute_error: 0.0179 - acc: 0.6898 - val_loss: 1.4290 - val_mean_absolute_error: 0.0196 - val_acc: 0.5973\n",
            "\n",
            "Epoch 00018: val_loss improved from 1.44615 to 1.42903, saving model to weights.hdf5\n",
            "Epoch 19/30\n",
            "72049/72049 [==============================] - 41s 567us/step - loss: 0.9880 - mean_absolute_error: 0.0172 - acc: 0.7073 - val_loss: 1.4163 - val_mean_absolute_error: 0.0192 - val_acc: 0.6064\n",
            "\n",
            "Epoch 00019: val_loss improved from 1.42903 to 1.41630, saving model to weights.hdf5\n",
            "Epoch 20/30\n",
            "72049/72049 [==============================] - 41s 568us/step - loss: 0.9414 - mean_absolute_error: 0.0166 - acc: 0.7218 - val_loss: 1.4158 - val_mean_absolute_error: 0.0189 - val_acc: 0.6065\n",
            "\n",
            "Epoch 00020: val_loss improved from 1.41630 to 1.41583, saving model to weights.hdf5\n",
            "Epoch 21/30\n",
            "72049/72049 [==============================] - 41s 568us/step - loss: 0.8951 - mean_absolute_error: 0.0160 - acc: 0.7326 - val_loss: 1.4064 - val_mean_absolute_error: 0.0186 - val_acc: 0.6117\n",
            "\n",
            "Epoch 00021: val_loss improved from 1.41583 to 1.40635, saving model to weights.hdf5\n",
            "Epoch 22/30\n",
            "72049/72049 [==============================] - 41s 569us/step - loss: 0.8476 - mean_absolute_error: 0.0153 - acc: 0.7485 - val_loss: 1.4110 - val_mean_absolute_error: 0.0185 - val_acc: 0.6138\n",
            "\n",
            "Epoch 00022: val_loss did not improve from 1.40635\n",
            "Epoch 23/30\n",
            "72049/72049 [==============================] - 41s 570us/step - loss: 0.8111 - mean_absolute_error: 0.0149 - acc: 0.7581 - val_loss: 1.4040 - val_mean_absolute_error: 0.0181 - val_acc: 0.6183\n",
            "\n",
            "Epoch 00023: val_loss improved from 1.40635 to 1.40404, saving model to weights.hdf5\n",
            "Epoch 24/30\n",
            "72049/72049 [==============================] - 41s 570us/step - loss: 0.7702 - mean_absolute_error: 0.0143 - acc: 0.7725 - val_loss: 1.4047 - val_mean_absolute_error: 0.0179 - val_acc: 0.6214\n",
            "\n",
            "Epoch 00024: val_loss did not improve from 1.40404\n",
            "Epoch 25/30\n",
            "72049/72049 [==============================] - 41s 569us/step - loss: 0.7358 - mean_absolute_error: 0.0138 - acc: 0.7813 - val_loss: 1.4122 - val_mean_absolute_error: 0.0176 - val_acc: 0.6248\n",
            "\n",
            "Epoch 00025: val_loss did not improve from 1.40404\n",
            "Epoch 26/30\n",
            "72049/72049 [==============================] - 41s 568us/step - loss: 0.6994 - mean_absolute_error: 0.0133 - acc: 0.7921 - val_loss: 1.4234 - val_mean_absolute_error: 0.0175 - val_acc: 0.6244\n",
            "\n",
            "Epoch 00026: val_loss did not improve from 1.40404\n",
            "Epoch 00026: early stopping\n"
          ],
          "name": "stdout"
        }
      ]
    },
    {
      "metadata": {
        "id": "UcTWSzsonp2m",
        "colab_type": "code",
        "colab": {
          "base_uri": "https://localhost:8080/",
          "height": 558
        },
        "outputId": "40fdb4d6-b00f-4114-c084-7c42df96370c"
      },
      "cell_type": "code",
      "source": [
        "#plot learning history\n",
        "plot_history(history)\n",
        "\n",
        "# Final evaluation of the model\n",
        "scores = model.evaluate(X_test, Y_test, verbose=0)\n",
        "print(\"Test accuracy: %.2f%%\" % (scores[2]*100))"
      ],
      "execution_count": 90,
      "outputs": [
        {
          "output_type": "display_data",
          "data": {
            "image/png": "[encoded data removed]",
            "text/plain": [
              "<matplotlib.figure.Figure at 0x7fa0f8421860>"
            ]
          },
          "metadata": {
            "tags": []
          }
        },
        {
          "output_type": "display_data",
          "data": {
            "image/png": "[encoded data removed]",
            "text/plain": [
              "<matplotlib.figure.Figure at 0x7fa0f82b9630>"
            ]
          },
          "metadata": {
            "tags": []
          }
        },
        {
          "output_type": "stream",
          "text": [
            "Test accuracy: 61.38%\n"
          ],
          "name": "stdout"
        }
      ]
    },
    {
      "metadata": {
        "id": "7yrN4CpWMG-2",
        "colab_type": "code",
        "colab": {}
      },
      "cell_type": "code",
      "source": [
        ""
      ],
      "execution_count": 0,
      "outputs": []
    }
  ]
}